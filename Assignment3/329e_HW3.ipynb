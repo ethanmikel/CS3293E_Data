{
 "cells": [
  {
   "cell_type": "markdown",
   "metadata": {},
   "source": [
    "# Homework 3\n",
    "\n",
    "## Your Name Here (or your names here if you are pair programming)\n",
    "David Paul Salinas (dps2387), \n",
    "Ethan Mikel\n",
    "\n",
    "## Normal and t distributions\n",
    "## t-test\n"
   ]
  },
  {
   "cell_type": "markdown",
   "metadata": {},
   "source": [
    "An experiment was conducted to determine the effect of children participating in a given meal preparation on calorie intake for that meal. Data are recorded below. \n",
    "\n",
    "Save the data to a format that can be read into python. Read the data in for analysis. Data is provided in two separted CSV files. \n",
    "\n",
    "* Use python to calculate the quantities and generate the visual summaries requested below. You will lose points if you are not utilizing python.\n",
    "\n",
    "* You can use scipy libary or other libraries to do your tests or you can implement them from scratch in python \n",
    "\n"
   ]
  },
  {
   "cell_type": "code",
   "execution_count": 33,
   "metadata": {},
   "outputs": [],
   "source": [
    "# Standard Headers\n",
    "# You are welcome to add additional headers here if you wish\n",
    "import pandas as pd\n",
    "import numpy as np\n",
    "import matplotlib.pyplot as plt\n",
    "import scipy as sp\n",
    "\n",
    "# Enable inline mode for matplotlib so that Jupyter displays graphs\n",
    "%matplotlib inline"
   ]
  },
  {
   "cell_type": "markdown",
   "metadata": {},
   "source": [
    "# Question - 1\n",
    "Summarize the data by whether children participated in the meal preparation or not. Use an appropriately labelled table to show the results. Also include a graphical presentation that shows the distribution of calories for participants vs. non-participants. Describe the shape of each distribution and comment on the similarity (or lack thereof) between the distributions in each population. **(2 points)**\n",
    "\n",
    "Be aware that there is not one specific way the graph needs to look. Experiment with different types of graphs, and different parameters for the graph type. Your goal is to present the data as readable as possible. "
   ]
  },
  {
   "cell_type": "code",
   "execution_count": 31,
   "metadata": {},
   "outputs": [
    {
     "name": "stdout",
     "output_type": "stream",
     "text": [
      "              count unique              top freq\n",
      "participation                                   \n",
      "No               23     23  nonparticipants    1\n",
      "Yes              26     26     participants    1\n",
      "calorie_intake    float64\n",
      "participation      object\n",
      "dtype: object\n"
     ]
    },
    {
     "data": {
      "text/plain": [
       "<Figure size 800x500 with 0 Axes>"
      ]
     },
     "metadata": {},
     "output_type": "display_data"
    },
    {
     "data": {
      "image/png": "[encoded data removed]",
      "text/plain": [
       "<Figure size 640x480 with 1 Axes>"
      ]
     },
     "metadata": {},
     "output_type": "display_data"
    }
   ],
   "source": [
    "nonparticipants = pd.read_csv(\"nonparticipants.csv\", header=None, names=[\"calorie_intake\"])\n",
    "participants = pd.read_csv(\"participants.csv\", header=None, names=[\"calorie_intake\"])\n",
    "\n",
    "nonparticipants[\"participation\"] = \"No\"\n",
    "participants[\"participation\"] = \"Yes\"\n",
    "\n",
    "both_sets = pd.concat([nonparticipants, participants], ignore_index=True)\n",
    "print(both_sets.groupby(\"participation\")[\"calorie_intake\"].describe())\n",
    "\n",
    "both_sets[\"calorie_intake\"] = pd.to_numeric(both_sets[\"calorie_intake\"], errors=\"coerce\")\n",
    "\n",
    "plt.figure(figsize=(8,5))\n",
    "both_sets.boxplot(column=\"calorie_intake\", by=\"participation\", grid=False)\n",
    "plt.title(\"Calorie Intake by Participation in Meal Preparation\")\n",
    "plt.xlabel(\"Participation\")\n",
    "plt.ylabel(\"Calories\")\n",
    "plt.suptitle(\"\")\n",
    "plt.show()"
   ]
  },
  {
   "cell_type": "markdown",
   "metadata": {},
   "source": [
    "# Question - 2 \n",
    "\n",
    "Does the mean calorie consumption for those who participated in the meal preparation differ from **425**? Formally test at the $\\alpha = 0.05$ level using the 5 steps outlined in the module. **(6 points)**\n"
   ]
  },
  {
   "cell_type": "code",
   "execution_count": 35,
   "metadata": {},
   "outputs": [
    {
     "name": "stdout",
     "output_type": "stream",
     "text": [
      "Sample Mean: 410.0795999999999\n",
      "Sample Std Dev: 121.51378616848379\n",
      "t-statistic: -0.6260969487455772\n",
      "p-value: 0.536926382991219\n",
      "Fail to Reject H0: The mean calorie intake for participants is not significantly different from 425 calories.\n"
     ]
    }
   ],
   "source": [
    "participants_data = participants[\"calorie_intake\"]\n",
    "participants_data = pd.to_numeric(participants_data, errors=\"coerce\")\n",
    "\n",
    "sample_mean = participants_data.mean()\n",
    "sample_std = participants_data.std()\n",
    "n = len(participants_data)\n",
    "\n",
    "print(f\"Sample Mean: {sample_mean}\")\n",
    "print(f\"Sample Std Dev: {sample_std}\")\n",
    "\n",
    "mean_under_null = 425\n",
    "\n",
    "t_stat = (sample_mean - mean_under_null) / (sample_std / (n ** 0.5))\n",
    "p_val = 2 * sp.stats.t.cdf(-abs(t_stat), df=n-1)\n",
    "print(f\"t-statistic: {t_stat}\")\n",
    "print(f\"p-value: {p_val}\")\n",
    "\n",
    "if p_val < 0.05:\n",
    "    print(\"Reject the null hypothesis: The mean calorie intake for participants is significantly different from 425 calories.\")\n",
    "else:\n",
    "    print(\"Fail to Reject H0: The mean calorie intake for participants is not significantly different from 425 calories.\")"
   ]
  },
  {
   "cell_type": "markdown",
   "metadata": {},
   "source": [
    "# Question -3 \n",
    "Calculate a **90%** confidence interval for the mean calorie intake for participants in the meal preparation. Interpret the confidence interval. **(6 points)**"
   ]
  },
  {
   "cell_type": "code",
   "execution_count": 4,
   "metadata": {},
   "outputs": [],
   "source": [
    "# Add your code or descriptions here "
   ]
  },
  {
   "cell_type": "code",
   "execution_count": null,
   "metadata": {},
   "outputs": [],
   "source": []
  },
  {
   "cell_type": "markdown",
   "metadata": {},
   "source": [
    "# Question 4 \n",
    "Formally test whether or not participants consumed \n",
    "more calories than non-participants at the $\\alpha = 0.05$ level using the 5 steps procedure for hypothesis tests. **(6 points )**"
   ]
  },
  {
   "cell_type": "code",
   "execution_count": 5,
   "metadata": {},
   "outputs": [],
   "source": [
    "# Add your code or descriptions here "
   ]
  },
  {
   "cell_type": "code",
   "execution_count": null,
   "metadata": {},
   "outputs": [],
   "source": []
  }
 ],
 "metadata": {
  "kernelspec": {
   "display_name": "Python 3",
   "language": "python",
   "name": "python3"
  },
  "language_info": {
   "codemirror_mode": {
    "name": "ipython",
    "version": 3
   },
   "file_extension": ".py",
   "mimetype": "text/x-python",
   "name": "python",
   "nbconvert_exporter": "python",
   "pygments_lexer": "ipython3",
   "version": "3.12.5"
  }
 },
 "nbformat": 4,
 "nbformat_minor": 4
}
